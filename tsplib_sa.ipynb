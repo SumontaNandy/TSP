{
 "cells": [
  {
   "cell_type": "code",
   "execution_count": null,
   "metadata": {},
   "outputs": [],
   "source": [
    "import os\n",
    "import pickle\n",
    "import tsplib95\n",
    "import csv\n",
    "import time\n",
    "import pandas as pd\n",
    "import numpy as np\n",
    "import networkx as nx\n",
    "from networkx.algorithms.approximation.traveling_salesman import *"
   ]
  },
  {
   "cell_type": "code",
   "execution_count": null,
   "metadata": {},
   "outputs": [],
   "source": [
    "def get_tsp_graph(name) -> nx.Graph:\n",
    "    # load from pkl file if exists\n",
    "    graph_file_path = os.path.join(\"tsp_dataset\", f\"{name}.graph.pkl\")\n",
    "    if os.path.exists(graph_file_path):\n",
    "        # print(f\"Loading {name} from pkl {graph_file_path}\")\n",
    "        with open(graph_file_path, \"rb\") as file:\n",
    "            G = pickle.load(file)\n",
    "        return G.to_undirected()\n",
    "\n",
    "    tsp_file_path = os.path.join(\"tsp_dataset\", f\"{name}.tsp\")\n",
    "    # print(f\"Loading {name} from tsplib {tsp_file_path}\")\n",
    "    problem = tsplib95.load(tsp_file_path)\n",
    "    G = problem.get_graph()\n",
    "\n",
    "    # remove redundant edges\n",
    "    if problem.edge_weight_type == \"EXPLICIT\" and problem.edge_weight_format == \"FULL_MATRIX\":\n",
    "        for u in G.nodes:\n",
    "            for v in G.nodes:\n",
    "                if u > v:\n",
    "                    G.remove_edge(u, v)\n",
    "\n",
    "    # remove self loops\n",
    "    loop_edges = list(nx.selfloop_edges(G))\n",
    "    G.remove_edges_from(loop_edges)\n",
    "\n",
    "    # save as pkl file\n",
    "    with open(graph_file_path, \"wb\") as file:\n",
    "        print(f\"Saving {name} to pkl {graph_file_path}\")\n",
    "        pickle.dump(G, file)\n",
    "\n",
    "    return G"
   ]
  },
  {
   "cell_type": "code",
   "execution_count": null,
   "metadata": {},
   "outputs": [],
   "source": [
    "tsp_dataset_file_path = os.path.join(\"tsp_dataset\", \"tsp_dataset.csv\")\n",
    "print(f\"Loading tsp dataset from {tsp_dataset_file_path}\")\n",
    "tsp_dataset = pd.read_csv(tsp_dataset_file_path)"
   ]
  },
  {
   "cell_type": "code",
   "execution_count": null,
   "metadata": {},
   "outputs": [],
   "source": [
    "def get_opt_tour_length(name):\n",
    "    return tsp_dataset[tsp_dataset[\"name\"] == name][\"opt_tour_length\"].values[0]"
   ]
  },
  {
   "cell_type": "code",
   "execution_count": null,
   "metadata": {},
   "outputs": [],
   "source": [
    "def get_tour_length(G: nx.graph, tour: list):\n",
    "    tour_length = 0\n",
    "    for i in range(len(tour) - 1):\n",
    "        u, v = tour[i], tour[i + 1]\n",
    "        w = G[u][v][\"weight\"]\n",
    "        tour_length += w\n",
    "    return tour_length"
   ]
  },
  {
   "cell_type": "code",
   "execution_count": null,
   "metadata": {},
   "outputs": [],
   "source": [
    "def get_apx_ratio(G: nx.graph, tour: list):\n",
    "    return get_tour_length(G, tour) / get_opt_tour_length(G.name)"
   ]
  },
  {
   "cell_type": "code",
   "execution_count": null,
   "metadata": {},
   "outputs": [],
   "source": [
    "tsp_dataset"
   ]
  },
  {
   "cell_type": "code",
   "execution_count": null,
   "metadata": {},
   "outputs": [],
   "source": [
    "from mst import MST\n",
    "st = MST()"
   ]
  },
  {
   "cell_type": "code",
   "execution_count": null,
   "metadata": {},
   "outputs": [],
   "source": [
    "def get_total_edge_weight(G: nx.graph):\n",
    "    total_edge_weight = 0\n",
    "    for u, v in G.edges:\n",
    "        total_edge_weight += G[u][v][\"weight\"]\n",
    "    return total_edge_weight"
   ]
  },
  {
   "cell_type": "code",
   "execution_count": null,
   "metadata": {},
   "outputs": [],
   "source": [
    "from simulated_annealing import SimulateAnnealing"
   ]
  },
  {
   "cell_type": "code",
   "execution_count": null,
   "metadata": {},
   "outputs": [],
   "source": [
    "with open(\"sa_results.csv\", \"a\", newline=\"\") as csvfile:\n",
    "    writer = csv.writer(csvfile)\n",
    "\n",
    "    for name in tsp_dataset[\"name\"][58:]:\n",
    "        print(name)\n",
    "\n",
    "        G = get_tsp_graph(name)\n",
    "        dimension = G.number_of_nodes()\n",
    "        opt_tour_length = get_opt_tour_length(name)\n",
    "\n",
    "        d = {\n",
    "            \"name\": name,\n",
    "            \"dimension\": dimension,\n",
    "            \"opt_tour_length\": opt_tour_length,\n",
    "        }\n",
    "\n",
    "        best_tour = None\n",
    "        best_tour_length = None\n",
    "        best_tour_k = None\n",
    "\n",
    "        best_sa_tour = None\n",
    "        best_sa_tour_length = None\n",
    "        best_sa_tour_k = None\n",
    "        \n",
    "        c_tour = None\n",
    "        c_tour_length = None\n",
    "\n",
    "        start_time = time.time()\n",
    "\n",
    "        for k in range(1, 10):\n",
    "            print(name, k) \n",
    "            tree = st.get_mst_k(G, k)\n",
    "            tour = christofides(G, tree=tree)\n",
    "            tour_length = get_tour_length(G, tour)\n",
    "            \n",
    "            if k == 1:\n",
    "                c_tour = tour\n",
    "                c_tour_length = tour_length\n",
    "\n",
    "            if best_tour is None or tour_length < best_tour_length:\n",
    "                best_tour = tour\n",
    "                best_tour_length = tour_length\n",
    "                best_tour_k = k\n",
    "\n",
    "            sa = SimulateAnnealing(\n",
    "                graph=G,\n",
    "                initial_solution=tour,\n",
    "                max_iterations=100000,\n",
    "                initial_temperature=10000,\n",
    "                cooling_rate=0.01,\n",
    "            )\n",
    "            sa_tour, sa_tour_cost = sa.run()\n",
    "            sa_tour_length = get_tour_length(G, sa_tour)\n",
    "            assert sa_tour_cost == sa_tour_length\n",
    "\n",
    "            if best_sa_tour is None or sa_tour_length < best_sa_tour_length:\n",
    "                best_sa_tour = sa_tour\n",
    "                best_sa_tour_length = sa_tour_length\n",
    "                best_sa_tour_k = k\n",
    "\n",
    "        end_time = time.time()\n",
    "        elapsed_time = end_time - start_time\n",
    "        \n",
    "        c_apx_ratio = c_tour_length / opt_tour_length\n",
    "        best_apx_ratio = best_tour_length / opt_tour_length\n",
    "        best_sa_apx_ratio = best_sa_tour_length / opt_tour_length\n",
    "\n",
    "        d[\"c_tour_length\"] = c_tour_length\n",
    "        d[\"best_tour_length\"] = best_tour_length\n",
    "        d[\"best_sa_tour_length\"] = best_sa_tour_length\n",
    "        d[\"c_apx_ratio\"] = c_apx_ratio\n",
    "        d[\"best_apx_ratio\"] = best_apx_ratio\n",
    "        d[\"best_sa_apx_ratio\"] = best_sa_apx_ratio\n",
    "        d[\"best_tour_k\"] = best_tour_k\n",
    "        d[\"best_sa_tour_k\"] = best_sa_tour_k\n",
    "        d[\"elapsed_time\"] = elapsed_time\n",
    "\n",
    "        print(list(d.values()))\n",
    "        writer.writerow(d.values())\n",
    "        csvfile.flush()\n",
    "\n",
    "        print()"
   ]
  }
 ],
 "metadata": {
  "kernelspec": {
   "display_name": "Python 3",
   "language": "python",
   "name": "python3"
  },
  "language_info": {
   "codemirror_mode": {
    "name": "ipython",
    "version": 3
   },
   "file_extension": ".py",
   "mimetype": "text/x-python",
   "name": "python",
   "nbconvert_exporter": "python",
   "pygments_lexer": "ipython3",
   "version": "3.11.5"
  }
 },
 "nbformat": 4,
 "nbformat_minor": 2
}
