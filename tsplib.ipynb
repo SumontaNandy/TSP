{
 "cells": [
  {
   "cell_type": "code",
   "execution_count": null,
   "metadata": {},
   "outputs": [],
   "source": [
    "import os\n",
    "import pickle\n",
    "import tsplib95\n",
    "import networkx as nx\n",
    "from networkx.algorithms.approximation.traveling_salesman import *"
   ]
  },
  {
   "cell_type": "code",
   "execution_count": null,
   "metadata": {},
   "outputs": [],
   "source": [
    "# load optimal tour lengths\n",
    "opt_tour_lengths = dict()\n",
    "with open(\"tsp_dataset/tsp.soln\") as file:\n",
    "    for line in file:\n",
    "        name, _, opt_tour, *_ = line.split()\n",
    "        opt_tour_lengths[name] = int(opt_tour)\n",
    "\n",
    "def get_opt_tour_length(name):\n",
    "    return opt_tour_lengths[name]"
   ]
  },
  {
   "cell_type": "code",
   "execution_count": null,
   "metadata": {},
   "outputs": [],
   "source": [
    "def get_tsp_graph(name) -> nx.Graph:\n",
    "    # load from pkl file if exists\n",
    "    graph_file_path = os.path.join(\"tsp_dataset\", f\"{name}.graph.pkl\")\n",
    "    if os.path.exists(graph_file_path):\n",
    "        print(f\"Loading {name} from {graph_file_path}\")\n",
    "        with open(graph_file_path, \"rb\") as file:\n",
    "            G = pickle.load(file)\n",
    "        return G\n",
    "\n",
    "    tsp_file_path = os.path.join(\"tsp_dataset\", f\"{name}.tsp\")\n",
    "    print(f\"Loading {name} from {tsp_file_path}\")\n",
    "    problem = tsplib95.load(tsp_file_path)\n",
    "    G = problem.get_graph()\n",
    "\n",
    "    if problem.edge_weight_type == \"EXPLICIT\" and problem.edge_weight_format == \"FULL_MATRIX\":\n",
    "        for u in G.nodes:\n",
    "            for v in G.nodes:\n",
    "                if u > v:\n",
    "                    G.remove_edge(u, v)\n",
    "\n",
    "    loop_edges = list(nx.selfloop_edges(G))\n",
    "    G.remove_edges_from(loop_edges)\n",
    "\n",
    "    n, m = G.number_of_nodes(), G.number_of_edges()\n",
    "    assert n * (n - 1) // 2 == m\n",
    "\n",
    "    # save to pkl file\n",
    "    with open(graph_file_path, \"wb\") as file:\n",
    "        pickle.dump(G, file)\n",
    "\n",
    "    return G"
   ]
  },
  {
   "cell_type": "code",
   "execution_count": null,
   "metadata": {},
   "outputs": [],
   "source": [
    "tsp_graphs = dict()\n",
    "for tsp_file in os.listdir(\"tsp_dataset\"):\n",
    "    name, file_extn = os.path.splitext(tsp_file)\n",
    "    if file_extn == \".tsp\":\n",
    "        print(name)\n",
    "        problem = tsplib95.load(os.path.join(\"tsp_dataset\", f\"{name}.tsp\"))\n",
    "        \n",
    "        G = get_tsp_graph(name)\n",
    "        G = G.to_undirected()\n",
    "        print(G.graph, G.is_directed())\n",
    "\n",
    "        tour = christofides(G)\n",
    "        print(\"tour:\", tour)\n",
    "        tour_length = problem.trace_tours([tour])[0]\n",
    "        apprx_ratio = tour_length / get_opt_tour_length(name)\n",
    "        print(tour_length, apprx_ratio)\n",
    "        print()"
   ]
  },
  {
   "cell_type": "code",
   "execution_count": null,
   "metadata": {},
   "outputs": [],
   "source": [
    "problem = tsplib95.load(\"tsp_dataset/a280.tsp\")\n",
    "opt_tour_length = 2020"
   ]
  },
  {
   "cell_type": "code",
   "execution_count": null,
   "metadata": {},
   "outputs": [],
   "source": [
    "problem.as_dict()"
   ]
  },
  {
   "cell_type": "code",
   "execution_count": null,
   "metadata": {},
   "outputs": [],
   "source": [
    "G = problem.get_graph()"
   ]
  },
  {
   "cell_type": "code",
   "execution_count": null,
   "metadata": {},
   "outputs": [],
   "source": []
  },
  {
   "cell_type": "code",
   "execution_count": null,
   "metadata": {},
   "outputs": [],
   "source": [
    "G.graph"
   ]
  },
  {
   "cell_type": "code",
   "execution_count": null,
   "metadata": {},
   "outputs": [],
   "source": [
    "G.number_of_nodes(), G.number_of_edges()"
   ]
  },
  {
   "cell_type": "code",
   "execution_count": null,
   "metadata": {},
   "outputs": [],
   "source": [
    "list(G.edges(data=True))"
   ]
  },
  {
   "cell_type": "code",
   "execution_count": null,
   "metadata": {},
   "outputs": [],
   "source": [
    "G.number_of_nodes(), G.number_of_edges()"
   ]
  },
  {
   "cell_type": "code",
   "execution_count": null,
   "metadata": {},
   "outputs": [],
   "source": [
    "n, m = G.number_of_nodes(), G.number_of_edges()\n",
    "print(n, m)"
   ]
  },
  {
   "cell_type": "code",
   "execution_count": null,
   "metadata": {},
   "outputs": [],
   "source": [
    "assert n * (n - 1) // 2 == m"
   ]
  },
  {
   "cell_type": "code",
   "execution_count": null,
   "metadata": {},
   "outputs": [],
   "source": [
    "tour = christofides(G)\n",
    "print(\"tour:\", tour)\n",
    "tour_length = problem.trace_tours([tour])[0]\n",
    "print(\"tour length:\", tour_length)\n",
    "print(\"approximation ratio:\", tour_length / opt_tour_length)"
   ]
  }
 ],
 "metadata": {
  "kernelspec": {
   "display_name": "Python 3",
   "language": "python",
   "name": "python3"
  },
  "language_info": {
   "codemirror_mode": {
    "name": "ipython",
    "version": 3
   },
   "file_extension": ".py",
   "mimetype": "text/x-python",
   "name": "python",
   "nbconvert_exporter": "python",
   "pygments_lexer": "ipython3",
   "version": "3.11.5"
  }
 },
 "nbformat": 4,
 "nbformat_minor": 2
}
